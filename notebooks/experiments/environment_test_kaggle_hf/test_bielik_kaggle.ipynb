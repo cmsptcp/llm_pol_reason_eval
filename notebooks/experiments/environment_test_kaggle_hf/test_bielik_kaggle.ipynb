{
 "cells": [
  {
   "metadata": {},
   "cell_type": "code",
   "source": [
    "%load_ext autoreload\n",
    "%autoreload 2"
   ],
   "id": "9611ccd9a64b54cf",
   "outputs": [],
   "execution_count": null
  },
  {
   "metadata": {},
   "cell_type": "code",
   "source": "!pip install transformers torch accelerate bitsandbytes sentencepiece --quiet",
   "id": "38f90503f1432270",
   "outputs": [],
   "execution_count": null
  },
  {
   "metadata": {},
   "cell_type": "code",
   "source": [
    "import os\n",
    "import json\n",
    "import torch\n",
    "from transformers import AutoTokenizer, AutoModelForCausalLM, BitsAndBytesConfig"
   ],
   "id": "f5eacc3e4e773b60",
   "outputs": [],
   "execution_count": null
  },
  {
   "metadata": {},
   "cell_type": "code",
   "source": [
    "if torch.cuda.is_available():\n",
    "    print(torch.cuda.get_device_name(0))\n",
    "else:\n",
    "    print(\"CUDA not enabled\")"
   ],
   "id": "479775bb7551533c",
   "outputs": [],
   "execution_count": null
  },
  {
   "metadata": {},
   "cell_type": "code",
   "source": "print(os.getcwd())",
   "id": "9926722ca0abec28",
   "outputs": [],
   "execution_count": null
  },
  {
   "metadata": {},
   "cell_type": "code",
   "source": [
    "model_id = \"speakleash/Bielik-11B-v2.3-Instruct\"\n",
    "# model_id = \"speakleash/Bielik-1.5B-v3.0-Instruct\""
   ],
   "id": "92d501f04d20d90e",
   "outputs": [],
   "execution_count": null
  },
  {
   "cell_type": "code",
   "id": "initial_id",
   "metadata": {
    "collapsed": true
   },
   "source": [
    "bnb_config = BitsAndBytesConfig(\n",
    "    load_in_4bit=True,\n",
    "    bnb_4bit_use_double_quant=True,\n",
    "    bnb_4bit_quant_type=\"nf4\",\n",
    "    bnb_4bit_compute_dtype=torch.bfloat16\n",
    ")"
   ],
   "outputs": [],
   "execution_count": null
  },
  {
   "metadata": {},
   "cell_type": "code",
   "source": [
    "%%time\n",
    "print(f\"Ładowanie tokenizera dla modelu: {model_id}\")\n",
    "tokenizer = AutoTokenizer.from_pretrained(model_id)\n",
    "print(\"Tokenizer załadowany.\")"
   ],
   "id": "848366fd3fa8e32",
   "outputs": [],
   "execution_count": null
  },
  {
   "metadata": {},
   "cell_type": "code",
   "source": [
    "%%time\n",
    "print(f\"Ładowanie modelu: {model_id} z kwantyzacją...\")\n",
    "model = AutoModelForCausalLM.from_pretrained(\n",
    "    model_id,\n",
    "    quantization_config=bnb_config,\n",
    "    device_map=\"auto\",\n",
    "    trust_remote_code=True\n",
    ")\n",
    "print(\"Model załadowany.\")"
   ],
   "id": "d8938ab7a64c2f2b",
   "outputs": [],
   "execution_count": null
  },
  {
   "metadata": {},
   "cell_type": "code",
   "source": [
    "if tokenizer.pad_token_id is None:\n",
    "    print(\"Ustawianie pad_token_id na eos_token_id.\")\n",
    "    tokenizer.pad_token_id = tokenizer.eos_token_id\n",
    "    model.config.pad_token_id = model.config.eos_token_id"
   ],
   "id": "c3406b7daab0d9b",
   "outputs": [],
   "execution_count": null
  },
  {
   "metadata": {},
   "cell_type": "code",
   "source": [
    "def generate_bielik_response(prompt_text, max_new_tokens=256, temperature=0.7, top_k=50, top_p=0.95):\n",
    "    if tokenizer.chat_template:\n",
    "        messages = [{\"role\": \"user\", \"content\": prompt_text}]\n",
    "        formatted_prompt = tokenizer.apply_chat_template(messages, tokenize=False, add_generation_prompt=True)\n",
    "    else:\n",
    "        print(\"OSTRZEŻENIE: Tokenizer nie ma zdefiniowanego szablonu czatu. Używam formatu manualnego.\")\n",
    "        formatted_prompt = f\"<|im_start|>user\\n{prompt_text}<|im_end|>\\n<|im_start|>assistant\\n\"\n",
    "\n",
    "    inputs = tokenizer(formatted_prompt, return_tensors=\"pt\").to(model.device)\n",
    "    print(f\"Generowanie odpowiedzi (temp={temperature}, top_k={top_k}, top_p={top_p})...\")\n",
    "\n",
    "    generate_kwargs = {\n",
    "        \"input_ids\": inputs[\"input_ids\"],\n",
    "        \"attention_mask\": inputs[\"attention_mask\"],\n",
    "        \"max_new_tokens\": max_new_tokens,\n",
    "        \"pad_token_id\": tokenizer.eos_token_id,\n",
    "        \"eos_token_id\": tokenizer.eos_token_id\n",
    "    }\n",
    "    if temperature is not None and temperature > 0.0:\n",
    "        generate_kwargs[\"temperature\"] = temperature\n",
    "        generate_kwargs[\"do_sample\"] = True\n",
    "        if top_k is not None and top_k > 0: generate_kwargs[\"top_k\"] = top_k\n",
    "        if top_p is not None and top_p < 1.0: generate_kwargs[\"top_p\"] = top_p\n",
    "    else:\n",
    "        generate_kwargs[\"do_sample\"] = False\n",
    "\n",
    "    outputs = model.generate(**generate_kwargs)\n",
    "    response_text = tokenizer.decode(outputs[0][inputs['input_ids'].shape[1]:], skip_special_tokens=True)\n",
    "    return response_text.strip()"
   ],
   "id": "f98821d284a895dc",
   "outputs": [],
   "execution_count": null
  },
  {
   "metadata": {},
   "cell_type": "code",
   "source": [
    "%%time\n",
    "user_question = \"Jaka jest najwyższa góra w Polsce? Odpowiedz 1 słowem\"\n",
    "print(f\"\\nZadaję pytanie: {user_question}\")\n",
    "model_answer = generate_bielik_response(user_question)\n",
    "print(f\"\\nOdpowiedź modelu Bielik:\")\n",
    "print(model_answer)"
   ],
   "id": "3ed4c70b31244a79",
   "outputs": [],
   "execution_count": null
  },
  {
   "metadata": {},
   "cell_type": "code",
   "source": [
    "%%time\n",
    "user_question_2 = \"Napisz krótki wiersz o wiośnie.\"\n",
    "print(f\"\\nZadaję pytanie: {user_question_2}\")\n",
    "model_answer_2 = generate_bielik_response(user_question_2, max_new_tokens=200)\n",
    "print(f\"\\nOdpowiedź modelu Bielik:\")\n",
    "print(model_answer_2)"
   ],
   "id": "cfdbfe8f643b742d",
   "outputs": [],
   "execution_count": null
  },
  {
   "metadata": {},
   "cell_type": "code",
   "source": [
    "user_question_3 = \"Podaj definicję fotosyntezy.\"\n",
    "print(f\"\\nZadaję pytanie: {user_question_3}\")\n",
    "model_answer_3 = generate_bielik_response(user_question_3, temperature=0.0)\n",
    "print(f\"\\nOdpowiedź modelu Bielik (greedy):\")\n",
    "print(model_answer_3)"
   ],
   "id": "1fa84fcc5438ae",
   "outputs": [],
   "execution_count": null
  },
  {
   "metadata": {},
   "cell_type": "code",
   "source": [
    "output_dir = \"/kaggle/working/\"\n",
    "if not os.path.exists(output_dir):\n",
    "    os.makedirs(output_dir)\n",
    "output_file_path = os.path.join(output_dir, \"bielik_sample_output.txt\")\n",
    "with open(output_file_path, \"w\", encoding=\"utf-8\") as f:\n",
    "    f.write(f\"Pytanie 1: {user_question}\\n\")\n",
    "    f.write(f\"Odpowiedź 1 (temp=0.7): {model_answer}\\n\\n\")\n",
    "    f.write(f\"Pytanie 2: {user_question_2}\\n\")\n",
    "    f.write(f\"Odpowiedź 2 (temp=0.85): {model_answer_2}\\n\\n\")\n",
    "    f.write(f\"Pytanie 3: {user_question_3}\\n\")\n",
    "    f.write(f\"Odpowiedź 3 (greedy, temp=0.0): {model_answer_3}\\n\")\n",
    "print(f\"\\nPrzykładowe wyniki zapisano w: {output_file_path}\")\n",
    "print(\"Działanie notatnika zakończone pomyślnie.\")"
   ],
   "id": "5210fa5d9a4a7a16",
   "outputs": [],
   "execution_count": null
  }
 ],
 "metadata": {
  "kernelspec": {
   "display_name": "Python 3",
   "language": "python",
   "name": "python3"
  },
  "language_info": {
   "codemirror_mode": {
    "name": "ipython",
    "version": 2
   },
   "file_extension": ".py",
   "mimetype": "text/x-python",
   "name": "python",
   "nbconvert_exporter": "python",
   "pygments_lexer": "ipython2",
   "version": "2.7.6"
  }
 },
 "nbformat": 4,
 "nbformat_minor": 5
}
