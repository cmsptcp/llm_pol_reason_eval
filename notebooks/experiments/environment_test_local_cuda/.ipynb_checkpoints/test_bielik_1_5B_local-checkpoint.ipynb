{
 "cells": [
  {
   "cell_type": "code",
   "id": "initial_id",
   "metadata": {
    "collapsed": true,
    "ExecuteTime": {
     "end_time": "2025-06-05T16:53:47.599275Z",
     "start_time": "2025-06-05T16:53:47.440957Z"
    }
   },
   "source": [
    "%load_ext autoreload\n",
    "%autoreload 2"
   ],
   "outputs": [],
   "execution_count": 1
  },
  {
   "metadata": {
    "ExecuteTime": {
     "end_time": "2025-06-05T16:53:53.158379Z",
     "start_time": "2025-06-05T16:53:47.836818Z"
    }
   },
   "cell_type": "code",
   "source": [
    "import os\n",
    "from pathlib import Path\n",
    "from dotenv import load_dotenv\n",
    "from transformers import AutoModelForCausalLM, AutoTokenizer\n",
    "import torch"
   ],
   "id": "f3a0749022ff6d9f",
   "outputs": [],
   "execution_count": 2
  },
  {
   "metadata": {
    "ExecuteTime": {
     "end_time": "2025-06-05T16:53:53.339206Z",
     "start_time": "2025-06-05T16:53:53.171953Z"
    }
   },
   "cell_type": "code",
   "source": [
    "project_root = Path(os.getcwd()).resolve()\n",
    "print(f\"Project root: {project_root}\")\n",
    "# load_dotenv(os.path.join(project_root,'.env'))\n",
    "env_path = project_root.parents[2] / '.env'\n",
    "print(f\"Env path: {env_path}\")\n",
    "load_dotenv(env_path)"
   ],
   "id": "1bf9b6a37290dfe0",
   "outputs": [
    {
     "name": "stdout",
     "output_type": "stream",
     "text": [
      "Project root: C:\\Users\\piotr\\PycharmProjects\\LLMPolReasonEval\\notebooks\\experiments\\environment_test_local_cuda\n",
      "Env path: C:\\Users\\piotr\\PycharmProjects\\LLMPolReasonEval\\.env\n"
     ]
    },
    {
     "data": {
      "text/plain": [
       "True"
      ]
     },
     "execution_count": 3,
     "metadata": {},
     "output_type": "execute_result"
    }
   ],
   "execution_count": 3
  },
  {
   "metadata": {
    "ExecuteTime": {
     "end_time": "2025-06-05T16:53:53.510541Z",
     "start_time": "2025-06-05T16:53:53.361768Z"
    }
   },
   "cell_type": "code",
   "source": [
    "hf_token = os.getenv(\"HF_TOKEN\")\n",
    "if not hf_token:\n",
    "    raise ValueError(\"Brak tokena Hugging Face. Dodaj HF_TOKEN do pliku .env.\")"
   ],
   "id": "e5b47df30e322ddc",
   "outputs": [],
   "execution_count": 4
  },
  {
   "metadata": {
    "ExecuteTime": {
     "end_time": "2025-06-05T16:53:53.688581Z",
     "start_time": "2025-06-05T16:53:53.524315Z"
    }
   },
   "cell_type": "code",
   "source": [
    "if torch.cuda.is_available():\n",
    "    print(torch.cuda.get_device_name(0))\n",
    "else:\n",
    "    print(\"CUDA not enabled\")"
   ],
   "id": "e9e7233f0c785838",
   "outputs": [
    {
     "name": "stdout",
     "output_type": "stream",
     "text": [
      "NVIDIA GeForce GTX 1660 Ti\n"
     ]
    }
   ],
   "execution_count": 5
  },
  {
   "metadata": {
    "ExecuteTime": {
     "end_time": "2025-06-05T16:53:53.861860Z",
     "start_time": "2025-06-05T16:53:53.715503Z"
    }
   },
   "cell_type": "code",
   "source": [
    "if torch.cuda.is_available():\n",
    "    torch.cuda.empty_cache()\n",
    "    print(\"Pamięć podręczna CUDA została wyczyszczona.\")"
   ],
   "id": "ae2ff1ba00b4b82b",
   "outputs": [
    {
     "name": "stdout",
     "output_type": "stream",
     "text": [
      "Pamięć podręczna CUDA została wyczyszczona.\n"
     ]
    }
   ],
   "execution_count": 6
  },
  {
   "metadata": {
    "ExecuteTime": {
     "end_time": "2025-06-05T16:53:59.869177Z",
     "start_time": "2025-06-05T16:53:53.881944Z"
    }
   },
   "cell_type": "code",
   "source": [
    "%%time\n",
    "model_name = \"speakleash/Bielik-1.5B-v3.0-Instruct\"\n",
    "print(f\"Pobieranie modelu {model_name}...\")\n",
    "tokenizer = AutoTokenizer.from_pretrained(model_name, token=hf_token)\n",
    "model = AutoModelForCausalLM.from_pretrained(\n",
    "    model_name,\n",
    "    token=hf_token,\n",
    "    torch_dtype=torch.float16 if torch.cuda.is_available() else torch.float32,\n",
    ")\n",
    "\n",
    "device = torch.device(\"cuda\" if torch.cuda.is_available() else \"cpu\")\n",
    "model = model.to(device)\n",
    "print(f\"Model załadowany na urządzenie: {device} z typem danych: {model.dtype}\")\n"
   ],
   "id": "79473b1772c3bc0f",
   "outputs": [
    {
     "name": "stdout",
     "output_type": "stream",
     "text": [
      "Pobieranie modelu speakleash/Bielik-1.5B-v3.0-Instruct...\n",
      "Model załadowany na urządzenie: cuda z typem danych: torch.float16\n",
      "CPU times: total: 11.9 s\n",
      "Wall time: 5.78 s\n"
     ]
    }
   ],
   "execution_count": 7
  },
  {
   "metadata": {
    "ExecuteTime": {
     "end_time": "2025-06-05T16:54:06.038914Z",
     "start_time": "2025-06-05T16:53:59.892008Z"
    }
   },
   "cell_type": "code",
   "source": [
    "%%time\n",
    "prompt = \"Jakie są główne cechy modelu Bielik 1.5B?\"\n",
    "inputs = tokenizer(prompt, return_tensors=\"pt\").to(device)\n",
    "outputs = model.generate(inputs[\"input_ids\"], max_length=100)\n",
    "response = tokenizer.decode(outputs[0], skip_special_tokens=True)\n",
    "print(\"Odpowiedź modelu:\")\n",
    "print(response)"
   ],
   "id": "46fa620e960bd127",
   "outputs": [
    {
     "name": "stdout",
     "output_type": "stream",
     "text": [
      "Odpowiedź modelu:\n",
      "Jakie są główne cechy modelu Bielik 1.5B?\n",
      "\n",
      "Model Bielik 1.5B to zaawansowany model symulacyjny, który oferuje wiele funkcji i możliwości. Oto główne cechy tego modelu:\n",
      "\n",
      "1. **Wysoka dokładność**: Model Bielik 1.5B jest zaprojektowany z myślą o wysokiej dokładności i realistycznym odwzorowaniu zachowań fizycznych.\n",
      "2. **Różnorodność scenariuszy**: Model Bielik \n",
      "CPU times: total: 5.66 s\n",
      "Wall time: 5.91 s\n"
     ]
    }
   ],
   "execution_count": 8
  },
  {
   "metadata": {
    "ExecuteTime": {
     "end_time": "2025-06-05T16:54:12.565039Z",
     "start_time": "2025-06-05T16:54:06.043442Z"
    }
   },
   "cell_type": "code",
   "source": [
    "%%time\n",
    "prompt = \"Kim jesteś?\"\n",
    "inputs = tokenizer(prompt, return_tensors=\"pt\").to(device)\n",
    "outputs = model.generate(inputs[\"input_ids\"], max_length=100)\n",
    "response = tokenizer.decode(outputs[0], skip_special_tokens=True)\n",
    "print(\"Odpowiedź modelu:\")\n",
    "print(response)"
   ],
   "id": "df933b7416c5709b",
   "outputs": [
    {
     "name": "stdout",
     "output_type": "stream",
     "text": [
      "Odpowiedź modelu:\n",
      "Kim jesteś?\n",
      "\n",
      "Jestem programistą, który specjalizuje się w tworzeniu aplikacji webowych i mobilnych. Moje doświadczenie obejmuje tworzenie aplikacji na platformy Android, iOS oraz Windows.\n",
      "\n",
      "Jakie technologie wykorzystujesz?\n",
      "\n",
      "Moje umiejętności obejmują Java, Kotlin, React Native, Swift, Xamarin, a także technologie takie jak React, Angular, Vue.js, Node.js, Python, Ruby, JavaScript,\n",
      "CPU times: total: 6.14 s\n",
      "Wall time: 6.28 s\n"
     ]
    }
   ],
   "execution_count": 9
  },
  {
   "metadata": {
    "ExecuteTime": {
     "end_time": "2025-06-05T16:54:12.852261Z",
     "start_time": "2025-06-05T16:54:12.620724Z"
    }
   },
   "cell_type": "code",
   "source": [
    "from os import getcwd\n",
    "getcwd()"
   ],
   "id": "971a56889ab134aa",
   "outputs": [
    {
     "data": {
      "text/plain": [
       "'C:\\\\Users\\\\piotr\\\\PycharmProjects\\\\LLMPolReasonEval\\\\notebooks\\\\experiments\\\\environment_test_local_cuda'"
      ]
     },
     "execution_count": 10,
     "metadata": {},
     "output_type": "execute_result"
    }
   ],
   "execution_count": 10
  },
  {
   "metadata": {
    "ExecuteTime": {
     "end_time": "2025-06-05T16:55:41.417047Z",
     "start_time": "2025-06-05T16:55:41.192595Z"
    }
   },
   "cell_type": "code",
   "source": [
    "import sys\n",
    "sys.path.append(r\"C:\\Users\\piotr\\PycharmProjects\\LLMPolReasonEval\\src\")\n",
    "from llm_pol_reason_eval.question_processing.dataset_manager import DatasetManager\n",
    "json_file_path = r\"../../../data/dataset_raw/matury/jezyk_polski/MPOP-P1-100-A-2405-gemini25pro-2025-06-03T22-51-00Z.json\"\n",
    "dataset_manager = DatasetManager()\n",
    "dataset_manager.add_data_from_json_file(json_file_path)"
   ],
   "id": "db8fd8f1758b9832",
   "outputs": [],
   "execution_count": 12
  },
  {
   "metadata": {
    "ExecuteTime": {
     "end_time": "2025-06-05T17:00:19.211491Z",
     "start_time": "2025-06-05T17:00:18.984697Z"
    }
   },
   "cell_type": "code",
   "source": "json_data_str = dataset_manager.get_all_data_as_json_string(sort_contexts_by_key=True, sort_questions_by_key=True)",
   "id": "58c75cac2a42ca6c",
   "outputs": [],
   "execution_count": 15
  },
  {
   "metadata": {
    "ExecuteTime": {
     "end_time": "2025-06-05T17:00:37.881060Z",
     "start_time": "2025-06-05T17:00:37.655898Z"
    }
   },
   "cell_type": "code",
   "source": [
    "import json\n",
    "data_dict = json.loads(json_data_str)\n",
    "len(data_dict.get(\"questions\"))"
   ],
   "id": "8a809aad2b1cdd62",
   "outputs": [
    {
     "data": {
      "text/plain": [
       "15"
      ]
     },
     "execution_count": 16,
     "metadata": {},
     "output_type": "execute_result"
    }
   ],
   "execution_count": 16
  },
  {
   "metadata": {
    "ExecuteTime": {
     "end_time": "2025-06-05T17:01:11.925979Z",
     "start_time": "2025-06-05T17:01:11.705919Z"
    }
   },
   "cell_type": "code",
   "source": "data_dict.get(\"questions\")",
   "id": "ba90ec076ac110de",
   "outputs": [
    {
     "data": {
      "text/plain": [
       "13"
      ]
     },
     "execution_count": 19,
     "metadata": {},
     "output_type": "execute_result"
    }
   ],
   "execution_count": 19
  },
  {
   "metadata": {},
   "cell_type": "code",
   "outputs": [],
   "execution_count": null,
   "source": "",
   "id": "993f4601166d276"
  }
 ],
 "metadata": {
  "kernelspec": {
   "display_name": "Python 3",
   "language": "python",
   "name": "python3"
  },
  "language_info": {
   "codemirror_mode": {
    "name": "ipython",
    "version": 2
   },
   "file_extension": ".py",
   "mimetype": "text/x-python",
   "name": "python",
   "nbconvert_exporter": "python",
   "pygments_lexer": "ipython2",
   "version": "2.7.6"
  }
 },
 "nbformat": 4,
 "nbformat_minor": 5
}
