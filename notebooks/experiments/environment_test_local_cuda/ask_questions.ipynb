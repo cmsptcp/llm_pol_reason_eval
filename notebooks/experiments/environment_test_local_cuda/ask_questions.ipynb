{
 "cells": [
  {
   "cell_type": "code",
   "execution_count": 16,
   "id": "initial_id",
   "metadata": {
    "ExecuteTime": {
     "end_time": "2025-06-11T21:39:17.525541Z",
     "start_time": "2025-06-11T21:39:17.333106Z"
    },
    "collapsed": true,
    "jupyter": {
     "outputs_hidden": true
    }
   },
   "outputs": [
    {
     "name": "stdout",
     "output_type": "stream",
     "text": [
      "The autoreload extension is already loaded. To reload it, use:\n",
      "  %reload_ext autoreload\n",
      "Project root: C:\\Users\\piotr\\PycharmProjects\\LLMPolReasonEval\n"
     ]
    }
   ],
   "source": [
    "%load_ext autoreload\n",
    "%autoreload 2\n",
    "import yaml\n",
    "from pathlib import Path\n",
    "import sys\n",
    "import os\n",
    "import pprint\n",
    "import torch\n",
    "\n",
    "current_dir = Path(os.getcwd()).resolve()\n",
    "if current_dir.name == \"LLMPolReasonEval\": # uruchomione w Jupyter Lab\n",
    "    project_root = current_dir\n",
    "else:  # uruchomione w PyCharm\n",
    "    project_root = current_dir.parents[2]\n",
    "print(f\"Project root: {project_root}\")\n",
    "sys.path.append(str(project_root / \"src\"))\n",
    "\n",
    "from llm_pol_reason_eval.qa_engine.llm_qa_engine import LLMQAEngine\n",
    "from llm_pol_reason_eval.qa_engine.inference_client import HuggingFaceClient"
   ]
  },
  {
   "cell_type": "code",
   "execution_count": 17,
   "id": "41bdec79c77a03a4",
   "metadata": {
    "ExecuteTime": {
     "end_time": "2025-06-11T21:39:17.722955Z",
     "start_time": "2025-06-11T21:39:17.525541Z"
    }
   },
   "outputs": [
    {
     "name": "stdout",
     "output_type": "stream",
     "text": [
      "NVIDIA GeForce GTX 1660 Ti\n"
     ]
    }
   ],
   "source": [
    "if torch.cuda.is_available():\n",
    "    print(torch.cuda.get_device_name(0))\n",
    "else:\n",
    "    print(\"CUDA not enabled\")"
   ]
  },
  {
   "cell_type": "code",
   "execution_count": 18,
   "id": "5809061874c1854",
   "metadata": {
    "ExecuteTime": {
     "end_time": "2025-06-11T21:39:18.010422Z",
     "start_time": "2025-06-11T21:39:17.770678Z"
    }
   },
   "outputs": [
    {
     "name": "stdout",
     "output_type": "stream",
     "text": [
      "Pamięć podręczna CUDA została wyczyszczona.\n"
     ]
    }
   ],
   "source": [
    "if torch.cuda.is_available():\n",
    "    torch.cuda.empty_cache()\n",
    "    print(\"Pamięć podręczna CUDA została wyczyszczona.\")"
   ]
  },
  {
   "cell_type": "code",
   "execution_count": 19,
   "id": "29c65e6075de8453",
   "metadata": {
    "ExecuteTime": {
     "end_time": "2025-06-11T21:39:18.235243Z",
     "start_time": "2025-06-11T21:39:18.042535Z"
    }
   },
   "outputs": [
    {
     "name": "stdout",
     "output_type": "stream",
     "text": [
      "Uruchamiam eksperyment: Qwen3 1.7B - Odpowiedzi z myśleniem 'krok po kroku'\n"
     ]
    }
   ],
   "source": [
    "EXPERIMENT_NAME = \"qwen-thinking-matura\"\n",
    "\n",
    "# Wczytaj pliki konfiguracyjne\n",
    "RUN_CONFIG_FILE = \"config/runs/answer_generation_run.yaml\"\n",
    "MODELS_CONFIG_FILE = \"config/models.yaml\"\n",
    "\n",
    "with open(project_root / RUN_CONFIG_FILE, 'r', encoding='utf-8') as f:\n",
    "    run_config = yaml.safe_load(f)['experiments'][EXPERIMENT_NAME]\n",
    "\n",
    "with open(project_root / MODELS_CONFIG_FILE, 'r', encoding='utf-8') as f:\n",
    "    models_config = yaml.safe_load(f)\n",
    "\n",
    "print(f\"Uruchamiam eksperyment: {run_config.get('task_name')}\")"
   ]
  },
  {
   "cell_type": "code",
   "execution_count": 20,
   "id": "b971ec1938bb1381",
   "metadata": {
    "ExecuteTime": {
     "end_time": "2025-06-11T21:39:24.441771Z",
     "start_time": "2025-06-11T21:39:18.259324Z"
    }
   },
   "outputs": [
    {
     "name": "stdout",
     "output_type": "stream",
     "text": [
      "HuggingFaceClient: Inicjalizacja modelu Qwen/Qwen3-1.7B na urządzeniu: cuda\n"
     ]
    },
    {
     "data": {
      "application/vnd.jupyter.widget-view+json": {
       "model_id": "dfa013ad2077402e9f97d1e1d35dd7ab",
       "version_major": 2,
       "version_minor": 0
      },
      "text/plain": [
       "Loading checkpoint shards:   0%|          | 0/2 [00:00<?, ?it/s]"
      ]
     },
     "metadata": {},
     "output_type": "display_data"
    },
    {
     "name": "stdout",
     "output_type": "stream",
     "text": [
      "HuggingFaceClient: Domyślna konfiguracja generowania: GenerationConfig {\n",
      "  \"bos_token_id\": 151643,\n",
      "  \"do_sample\": true,\n",
      "  \"eos_token_id\": [\n",
      "    151645,\n",
      "    151643\n",
      "  ],\n",
      "  \"max_new_tokens\": 768,\n",
      "  \"pad_token_id\": 151643,\n",
      "  \"temperature\": 0.6,\n",
      "  \"top_k\": 20,\n",
      "  \"top_p\": 0.95\n",
      "}\n",
      "\n",
      "Inicjalizacja PromptManager z katalogiem szablonów: C:\\Users\\piotr\\PycharmProjects\\LLMPolReasonEval\\src\\llm_pol_reason_eval\\prompts\\templates\n"
     ]
    }
   ],
   "source": [
    "model_key = run_config['model']\n",
    "model_cfg = models_config[model_key]\n",
    "\n",
    "run_overrides = run_config.get(\"param_overrides\", {})\n",
    "#run_overrides.setdefault(\"default\", {})[\"max_new_tokens\"] = 100\n",
    "\n",
    "final_gen_params = model_cfg['generation_params'].copy()\n",
    "final_gen_params.update(run_overrides.get('default', {}))\n",
    "\n",
    "# Inicjalizacja klienta inferencji - to może potrwać chwilę\n",
    "inference_client = HuggingFaceClient(\n",
    "    model_path=model_cfg['path'],\n",
    "    default_generation_params=final_gen_params\n",
    ")\n",
    "\n",
    "engine = LLMQAEngine(\n",
    "    model_name=model_key,\n",
    "    model_path=model_cfg['path'],\n",
    "    inference_client=inference_client\n",
    ")"
   ]
  },
  {
   "cell_type": "code",
   "execution_count": 21,
   "id": "6f5164e1b3fcefae",
   "metadata": {
    "ExecuteTime": {
     "end_time": "2025-06-11T21:54:52.981955Z",
     "start_time": "2025-06-11T21:39:24.466211Z"
    }
   },
   "outputs": [
    {
     "name": "stdout",
     "output_type": "stream",
     "text": [
      "Wczytuję dataset z: C:\\Users\\piotr\\PycharmProjects\\LLMPolReasonEval\\data\\dataset\\mvp_dataset_2025-06-08T20-42-43Z.json\n",
      "\n",
      "--- Przetwarzanie batcha | Typ: closed_MTF, Kategoria: matura_język_polski, Pytania: 1 ---\n",
      "Sprawdzanie szablonu: C:\\Users\\piotr\\PycharmProjects\\LLMPolReasonEval\\src\\llm_pol_reason_eval\\prompts\\templates\\qwen3-1-7b\\system.jinja2 dla modelu: qwen3-1-7b\n",
      "Znaleziono szablon: qwen3-1-7b\\system.jinja2 dla modelu: qwen3-1-7b\n",
      "Używanie szablonu systemowego: qwen3-1-7b/system.jinja2 dla modelu: qwen3-1-7b\n",
      "Sprawdzanie szablonu: C:\\Users\\piotr\\PycharmProjects\\LLMPolReasonEval\\src\\llm_pol_reason_eval\\prompts\\templates\\qwen3-1-7b\\base_question_prompt.jinja2 dla modelu: qwen3-1-7b\n",
      "Znaleziono szablon: qwen3-1-7b\\base_question_prompt.jinja2 dla modelu: qwen3-1-7b\n",
      "Używanie szablonu użytkownika: qwen3-1-7b/base_question_prompt.jinja2 dla modelu: qwen3-1-7b\n",
      "Próba załadowania szablonu: qwen3-1-7b/system.jinja2\n",
      "Loader szuka w katalogu: ['C:\\\\Users\\\\piotr\\\\PycharmProjects\\\\LLMPolReasonEval\\\\src\\\\llm_pol_reason_eval\\\\prompts\\\\templates']\n",
      "Ścieżka szablonu przekazana do get_template: qwen3-1-7b/system.jinja2\n",
      "Szablon załadowany pomyślnie.\n",
      "Szablon wyrenderowany pomyślnie.\n",
      "Nowa odpowiedź: {'answer_id': 'ans_3b6fba96-89d7-4b49-9bfb-f9007acbbe83', 'question_id': 'EPOP-P1-100-2305_zad_1', 'answer_text': '<think>\\nOkay, let\\'s tackle this question. The user wants me to evaluate three statements about Józef Tischner\\'s \"Dialog\" based on the provided text. \\n\\nFirst, I need to recall the key points from the text. The main ideas are about the importance of courage in starting a dialogue, the necessity of mutual understanding, and the role of empathy in a genuine dialogue.\\n\\nStatement 1: \"Gotowość do dialogu wymaga odwagi.\" The text mentions that to start a dialogue, you have to \"wychylić się, przekroczyć próg,\" which is a metaphor for courage. So this should be true (P).\\n\\nStatement 2: \"Rzetelny dialog jest tym samym co rozmowa.\" The text says that not every conversation is a genuine dialogue. It\\'s a direct contradiction, so this is false (F).\\n\\nStatement 3: \"Dialog wymaga współodczuwania.\" The text mentions the need to \"wczuwania się\" in the other person\\'s perspective, which is about mutual understanding. So this is also true (P).\\n\\nI need to make sure I\\'m not mixing up any terms. The key here is that the text emphasizes that a genuine dialogue requires both parties to be open and empathetic, which aligns with mutual understanding. The courage is about the initial step, and the mutual understanding is the ongoing aspect. So the answers should be P, F, P respectively.\\n</think>\\n\\n1. P  \\n2. F  \\n3. P', 'generated_by': 'qwen3-1-7b (Qwen/Qwen3-1.7B)', 'generation_date': '2025-06-11T21:44:30.396753+00:00'}\n",
      "\n",
      "--- Przetwarzanie batcha | Typ: open_text, Kategoria: matura_język_polski, Pytania: 1 ---\n",
      "Sprawdzanie szablonu: C:\\Users\\piotr\\PycharmProjects\\LLMPolReasonEval\\src\\llm_pol_reason_eval\\prompts\\templates\\qwen3-1-7b\\system.jinja2 dla modelu: qwen3-1-7b\n",
      "Znaleziono szablon: qwen3-1-7b\\system.jinja2 dla modelu: qwen3-1-7b\n",
      "Używanie szablonu systemowego: qwen3-1-7b/system.jinja2 dla modelu: qwen3-1-7b\n",
      "Sprawdzanie szablonu: C:\\Users\\piotr\\PycharmProjects\\LLMPolReasonEval\\src\\llm_pol_reason_eval\\prompts\\templates\\qwen3-1-7b\\base_question_prompt.jinja2 dla modelu: qwen3-1-7b\n",
      "Znaleziono szablon: qwen3-1-7b\\base_question_prompt.jinja2 dla modelu: qwen3-1-7b\n",
      "Używanie szablonu użytkownika: qwen3-1-7b/base_question_prompt.jinja2 dla modelu: qwen3-1-7b\n",
      "Próba załadowania szablonu: qwen3-1-7b/system.jinja2\n",
      "Loader szuka w katalogu: ['C:\\\\Users\\\\piotr\\\\PycharmProjects\\\\LLMPolReasonEval\\\\src\\\\llm_pol_reason_eval\\\\prompts\\\\templates']\n",
      "Ścieżka szablonu przekazana do get_template: qwen3-1-7b/system.jinja2\n",
      "Szablon załadowany pomyślnie.\n",
      "Szablon wyrenderowany pomyślnie.\n",
      "Nowa odpowiedź: {'answer_id': 'ans_8e88f7b6-3154-4297-b740-80e4c68b96c1', 'question_id': 'MPOP-P1-100-A-2405_zadanie_14', 'answer_text': '<think>\\nOkay, let\\'s tackle this question about the symbolism of the golden rafter in \"Wesele\" by Stanisław Wyspiański. First, I need to recall what I know about the play. The golden rafter is a significant object in the scene where Wernyhor gives it to the host. The rafter is a symbol of power and authority, right? It\\'s a gift from Wernyhor to the host, which is a key moment in the play.\\n\\nThe user wants me to explain the symbolism. So, I should think about the historical context. In the play, the golden rafter is a symbol of the power of the nobility. It\\'s a tool that can be used to assert dominance, like a weapon. The rafter is also a symbol of the state\\'s power, as it\\'s a gift from the nobility to the host, which is a traditional way of showing respect and power.\\n\\nWait, but in the play, the golden rafter is given to the host, and it\\'s a symbol of the state\\'s power. The host, who is the groom, is supposed to use it to assert his own power. But the rafter is also a symbol of the state\\'s authority, as it\\'s a tool that can be used to enforce order. The rafter is a symbol of the state\\'s power, which is a key theme in the play.\\n\\nAlso, the golden rafter is a symbol of the state\\'s power, which is a key element in the play. The host is supposed to use it to assert his own power, but in the end, the rafter is taken by the host, which is a symbol of the state\\'s power over the individual. The rafter is a symbol of the state\\'s authority, and the host\\'s use of it is a symbol of the state\\'s power.\\n\\nWait, but I need to make sure I\\'m not mixing up the symbols. The golden rafter is a symbol of the state\\'s power, but also a symbol of the host\\'s power. The host is the one who is supposed to use it, but in the end, the rafter is taken by the host, which is a symbol of the state\\'s power over the individual. The rafter is a symbol of the state\\'s authority, and the host\\'s use of it is a symbol of the state\\'s power.\\n\\nSo, putting it all together, the golden rafter is a symbol of the state\\'s power, the authority of the nobility, and the potential for conflict between the state and the individual. The rafter is a tool that can be used to assert dominance, and its loss by the host symbolizes the loss of that power and the individual\\'s autonomy.\\n</think>\\n\\nZłoty róg w \"Weselu\" Stanisław Wyspiańskiego symbolizuje siłę władzy narodowej i zbrojnego wezwania do walki. Jest to przedmiot, który w kontekście dramatu reprezentuje moc stanu, a jego podanie Wernyhorowi jako dar symbolizuje zbrojne wezwanie do zjednoczenia narodu i walki o wolność. Róg, jako przedmiot zbrojny, odnosi się do siły, ducha walki i szans na zjednoczenie narodu. Jego utrata przez hosta, który schyla się po czapkę z piór (symbol prywatności i materializmu), oznacza zaprzepaszczenie tej historycznej okazji na rzecz prywatności i bierności. Symbolizuje więc zarówno siłę narodową, jak i', 'generated_by': 'qwen3-1-7b (Qwen/Qwen3-1.7B)', 'generation_date': '2025-06-11T21:54:52.973777+00:00'}\n",
      "\n",
      "Zakończono generowanie odpowiedzi.\n"
     ]
    }
   ],
   "source": [
    "input_dataset_path = project_root / run_config['input_dataset']\n",
    "print(f\"Wczytuję dataset z: {input_dataset_path}\")\n",
    "\n",
    "# Użyjemy query, żeby nie przetwarzać całego datasetu podczas testów w notatniku\n",
    "# Możesz usunąć `query`, aby przetworzyć cały plik\n",
    "target_question_ids = [\"MPOP-P1-100-A-2405_zadanie_14\", \"EPOP-P1-100-2305_zad_1\"]\n",
    "query = lambda q: q.get(\"question_id\") in target_question_ids\n",
    "\n",
    "per_type_params = run_config.get(\"param_overrides\", {}).get('per_type')\n",
    "\n",
    "results = engine.generate_answers(\n",
    "    dataset_filepath=str(input_dataset_path),\n",
    "    param_overrides=run_overrides,\n",
    "    query=query\n",
    ")\n",
    "# C:\\Users\\piotr\\PycharmProjects\\LLMPolReasonEval\\src\\llm_pol_reason_eval\\prompts\\templates\\qwen3-1-7b\n",
    "# C:\\Users\\piotr\\PycharmProjects\\LLMPolReasonEval\\src\\llm_pol_reason_eval\\prompts\\templates\\qwen3-1-7b\\system.jinja2"
   ]
  },
  {
   "cell_type": "code",
   "execution_count": 22,
   "id": "d314977f18884253",
   "metadata": {
    "ExecuteTime": {
     "end_time": "2025-06-11T21:54:53.427405Z",
     "start_time": "2025-06-11T21:54:53.057970Z"
    }
   },
   "outputs": [
    {
     "name": "stdout",
     "output_type": "stream",
     "text": [
      "--- WYGENEROWANE ODPOWIEDZI ---\n",
      "[{'answer_id': 'ans_3b6fba96-89d7-4b49-9bfb-f9007acbbe83',\n",
      "  'answer_text': '<think>\\n'\n",
      "                 \"Okay, let's tackle this question. The user wants me to \"\n",
      "                 'evaluate three statements about Józef Tischner\\'s \"Dialog\" '\n",
      "                 'based on the provided text. \\n'\n",
      "                 '\\n'\n",
      "                 'First, I need to recall the key points from the text. The '\n",
      "                 'main ideas are about the importance of courage in starting a '\n",
      "                 'dialogue, the necessity of mutual understanding, and the '\n",
      "                 'role of empathy in a genuine dialogue.\\n'\n",
      "                 '\\n'\n",
      "                 'Statement 1: \"Gotowość do dialogu wymaga odwagi.\" The text '\n",
      "                 'mentions that to start a dialogue, you have to \"wychylić '\n",
      "                 'się, przekroczyć próg,\" which is a metaphor for courage. So '\n",
      "                 'this should be true (P).\\n'\n",
      "                 '\\n'\n",
      "                 'Statement 2: \"Rzetelny dialog jest tym samym co rozmowa.\" '\n",
      "                 'The text says that not every conversation is a genuine '\n",
      "                 \"dialogue. It's a direct contradiction, so this is false \"\n",
      "                 '(F).\\n'\n",
      "                 '\\n'\n",
      "                 'Statement 3: \"Dialog wymaga współodczuwania.\" The text '\n",
      "                 'mentions the need to \"wczuwania się\" in the other person\\'s '\n",
      "                 'perspective, which is about mutual understanding. So this is '\n",
      "                 'also true (P).\\n'\n",
      "                 '\\n'\n",
      "                 \"I need to make sure I'm not mixing up any terms. The key \"\n",
      "                 'here is that the text emphasizes that a genuine dialogue '\n",
      "                 'requires both parties to be open and empathetic, which '\n",
      "                 'aligns with mutual understanding. The courage is about the '\n",
      "                 'initial step, and the mutual understanding is the ongoing '\n",
      "                 'aspect. So the answers should be P, F, P respectively.\\n'\n",
      "                 '</think>\\n'\n",
      "                 '\\n'\n",
      "                 '1. P  \\n'\n",
      "                 '2. F  \\n'\n",
      "                 '3. P',\n",
      "  'generated_by': 'qwen3-1-7b (Qwen/Qwen3-1.7B)',\n",
      "  'generation_date': '2025-06-11T21:44:30.396753+00:00',\n",
      "  'question_id': 'EPOP-P1-100-2305_zad_1'},\n",
      " {'answer_id': 'ans_8e88f7b6-3154-4297-b740-80e4c68b96c1',\n",
      "  'answer_text': '<think>\\n'\n",
      "                 \"Okay, let's tackle this question about the symbolism of the \"\n",
      "                 'golden rafter in \"Wesele\" by Stanisław Wyspiański. First, I '\n",
      "                 'need to recall what I know about the play. The golden rafter '\n",
      "                 'is a significant object in the scene where Wernyhor gives it '\n",
      "                 'to the host. The rafter is a symbol of power and authority, '\n",
      "                 \"right? It's a gift from Wernyhor to the host, which is a key \"\n",
      "                 'moment in the play.\\n'\n",
      "                 '\\n'\n",
      "                 'The user wants me to explain the symbolism. So, I should '\n",
      "                 'think about the historical context. In the play, the golden '\n",
      "                 \"rafter is a symbol of the power of the nobility. It's a tool \"\n",
      "                 'that can be used to assert dominance, like a weapon. The '\n",
      "                 \"rafter is also a symbol of the state's power, as it's a gift \"\n",
      "                 'from the nobility to the host, which is a traditional way of '\n",
      "                 'showing respect and power.\\n'\n",
      "                 '\\n'\n",
      "                 'Wait, but in the play, the golden rafter is given to the '\n",
      "                 \"host, and it's a symbol of the state's power. The host, who \"\n",
      "                 'is the groom, is supposed to use it to assert his own power. '\n",
      "                 \"But the rafter is also a symbol of the state's authority, as \"\n",
      "                 \"it's a tool that can be used to enforce order. The rafter is \"\n",
      "                 \"a symbol of the state's power, which is a key theme in the \"\n",
      "                 'play.\\n'\n",
      "                 '\\n'\n",
      "                 \"Also, the golden rafter is a symbol of the state's power, \"\n",
      "                 'which is a key element in the play. The host is supposed to '\n",
      "                 'use it to assert his own power, but in the end, the rafter '\n",
      "                 \"is taken by the host, which is a symbol of the state's power \"\n",
      "                 \"over the individual. The rafter is a symbol of the state's \"\n",
      "                 \"authority, and the host's use of it is a symbol of the \"\n",
      "                 \"state's power.\\n\"\n",
      "                 '\\n'\n",
      "                 \"Wait, but I need to make sure I'm not mixing up the symbols. \"\n",
      "                 \"The golden rafter is a symbol of the state's power, but also \"\n",
      "                 \"a symbol of the host's power. The host is the one who is \"\n",
      "                 'supposed to use it, but in the end, the rafter is taken by '\n",
      "                 \"the host, which is a symbol of the state's power over the \"\n",
      "                 \"individual. The rafter is a symbol of the state's authority, \"\n",
      "                 \"and the host's use of it is a symbol of the state's power.\\n\"\n",
      "                 '\\n'\n",
      "                 'So, putting it all together, the golden rafter is a symbol '\n",
      "                 \"of the state's power, the authority of the nobility, and the \"\n",
      "                 'potential for conflict between the state and the individual. '\n",
      "                 'The rafter is a tool that can be used to assert dominance, '\n",
      "                 'and its loss by the host symbolizes the loss of that power '\n",
      "                 \"and the individual's autonomy.\\n\"\n",
      "                 '</think>\\n'\n",
      "                 '\\n'\n",
      "                 'Złoty róg w \"Weselu\" Stanisław Wyspiańskiego symbolizuje '\n",
      "                 'siłę władzy narodowej i zbrojnego wezwania do walki. Jest to '\n",
      "                 'przedmiot, który w kontekście dramatu reprezentuje moc '\n",
      "                 'stanu, a jego podanie Wernyhorowi jako dar symbolizuje '\n",
      "                 'zbrojne wezwanie do zjednoczenia narodu i walki o wolność. '\n",
      "                 'Róg, jako przedmiot zbrojny, odnosi się do siły, ducha walki '\n",
      "                 'i szans na zjednoczenie narodu. Jego utrata przez hosta, '\n",
      "                 'który schyla się po czapkę z piór (symbol prywatności i '\n",
      "                 'materializmu), oznacza zaprzepaszczenie tej historycznej '\n",
      "                 'okazji na rzecz prywatności i bierności. Symbolizuje więc '\n",
      "                 'zarówno siłę narodową, jak i',\n",
      "  'generated_by': 'qwen3-1-7b (Qwen/Qwen3-1.7B)',\n",
      "  'generation_date': '2025-06-11T21:54:52.973777+00:00',\n",
      "  'question_id': 'MPOP-P1-100-A-2405_zadanie_14'}]\n",
      "\n",
      "Wyniki ewaluacji zapisano w pliku: C:\\Users\\piotr\\PycharmProjects\\LLMPolReasonEval\\results\\qwen_thinking\\answers_notebook_qwen-thinking-matura.json\n"
     ]
    }
   ],
   "source": [
    "print(\"--- WYGENEROWANE ODPOWIEDZI ---\")\n",
    "pprint.pprint(results)\n",
    "\n",
    "# Zapisz wyniki\n",
    "output_dir = project_root / run_config['output_dir']\n",
    "output_path = output_dir / f\"answers_notebook_{EXPERIMENT_NAME}.json\"\n",
    "engine.save_results(output_filepath=str(output_path))"
   ]
  },
  {
   "cell_type": "code",
   "execution_count": null,
   "id": "346081ce32e22e24",
   "metadata": {
    "ExecuteTime": {
     "end_time": "2025-06-11T21:54:53.447452Z",
     "start_time": "2025-06-11T21:54:53.441666Z"
    }
   },
   "outputs": [],
   "source": []
  },
  {
   "cell_type": "code",
   "execution_count": null,
   "id": "7f676f37987b1464",
   "metadata": {
    "ExecuteTime": {
     "end_time": "2025-06-11T21:54:53.543268Z",
     "start_time": "2025-06-11T21:54:53.537675Z"
    }
   },
   "outputs": [],
   "source": []
  }
 ],
 "metadata": {
  "kernelspec": {
   "display_name": "Python 3 (ipykernel)",
   "language": "python",
   "name": "python3"
  },
  "language_info": {
   "codemirror_mode": {
    "name": "ipython",
    "version": 3
   },
   "file_extension": ".py",
   "mimetype": "text/x-python",
   "name": "python",
   "nbconvert_exporter": "python",
   "pygments_lexer": "ipython3",
   "version": "3.12.10"
  }
 },
 "nbformat": 4,
 "nbformat_minor": 5
}
