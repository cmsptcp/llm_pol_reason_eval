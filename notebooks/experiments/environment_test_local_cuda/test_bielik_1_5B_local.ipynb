{
 "cells": [
  {
   "cell_type": "code",
   "id": "initial_id",
   "metadata": {
    "collapsed": true
   },
   "source": [
    "%load_ext autoreload\n",
    "%autoreload 2"
   ],
   "outputs": [],
   "execution_count": null
  },
  {
   "metadata": {},
   "cell_type": "code",
   "source": [
    "import os\n",
    "from pathlib import Path\n",
    "from dotenv import load_dotenv\n",
    "from transformers import AutoModelForCausalLM, AutoTokenizer\n",
    "import torch"
   ],
   "id": "f3a0749022ff6d9f",
   "outputs": [],
   "execution_count": null
  },
  {
   "metadata": {},
   "cell_type": "code",
   "source": [
    "project_root = Path(os.getcwd()).resolve()\n",
    "print(f\"Project root: {project_root}\")\n",
    "# load_dotenv(os.path.join(project_root,'.env'))\n",
    "env_path = project_root.parents[2] / '.env'\n",
    "print(f\"Env path: {env_path}\")\n",
    "load_dotenv(env_path)"
   ],
   "id": "1bf9b6a37290dfe0",
   "outputs": [],
   "execution_count": null
  },
  {
   "metadata": {},
   "cell_type": "code",
   "source": [
    "hf_token = os.getenv(\"HF_TOKEN\")\n",
    "if not hf_token:\n",
    "    raise ValueError(\"Brak tokena Hugging Face. Dodaj HF_TOKEN do pliku .env.\")"
   ],
   "id": "e5b47df30e322ddc",
   "outputs": [],
   "execution_count": null
  },
  {
   "metadata": {},
   "cell_type": "code",
   "source": [
    "if torch.cuda.is_available():\n",
    "    print(torch.cuda.get_device_name(0))\n",
    "else:\n",
    "    print(\"CUDA not enabled\")"
   ],
   "id": "e9e7233f0c785838",
   "outputs": [],
   "execution_count": null
  },
  {
   "metadata": {},
   "cell_type": "code",
   "source": [
    "if torch.cuda.is_available():\n",
    "    torch.cuda.empty_cache()\n",
    "    print(\"Pamięć podręczna CUDA została wyczyszczona.\")"
   ],
   "id": "ae2ff1ba00b4b82b",
   "outputs": [],
   "execution_count": null
  },
  {
   "metadata": {},
   "cell_type": "code",
   "source": [
    "%%time\n",
    "model_name = \"speakleash/Bielik-1.5B-v3.0-Instruct\"\n",
    "print(f\"Pobieranie modelu {model_name}...\")\n",
    "tokenizer = AutoTokenizer.from_pretrained(model_name, token=hf_token)\n",
    "model = AutoModelForCausalLM.from_pretrained(\n",
    "    model_name,\n",
    "    token=hf_token,\n",
    "    torch_dtype=torch.float16 if torch.cuda.is_available() else torch.float32,\n",
    ")\n",
    "\n",
    "device = torch.device(\"cuda\" if torch.cuda.is_available() else \"cpu\")\n",
    "model = model.to(device)\n",
    "print(f\"Model załadowany na urządzenie: {device} z typem danych: {model.dtype}\")\n"
   ],
   "id": "79473b1772c3bc0f",
   "outputs": [],
   "execution_count": null
  },
  {
   "metadata": {},
   "cell_type": "code",
   "source": [
    "%%time\n",
    "prompt = \"Jakie są główne cechy modelu Bielik 1.5B?\"\n",
    "inputs = tokenizer(prompt, return_tensors=\"pt\").to(device)\n",
    "outputs = model.generate(inputs[\"input_ids\"], max_length=100)\n",
    "response = tokenizer.decode(outputs[0], skip_special_tokens=True)\n",
    "print(\"Odpowiedź modelu:\")\n",
    "print(response)"
   ],
   "id": "46fa620e960bd127",
   "outputs": [],
   "execution_count": null
  },
  {
   "metadata": {},
   "cell_type": "code",
   "source": [
    "%%time\n",
    "prompt = \"Kim jesteś?\"\n",
    "inputs = tokenizer(prompt, return_tensors=\"pt\").to(device)\n",
    "outputs = model.generate(inputs[\"input_ids\"], max_length=100)\n",
    "response = tokenizer.decode(outputs[0], skip_special_tokens=True)\n",
    "print(\"Odpowiedź modelu:\")\n",
    "print(response)"
   ],
   "id": "df933b7416c5709b",
   "outputs": [],
   "execution_count": null
  },
  {
   "metadata": {},
   "cell_type": "code",
   "source": [
    "from os import getcwd\n",
    "getcwd()"
   ],
   "id": "971a56889ab134aa",
   "outputs": [],
   "execution_count": null
  },
  {
   "metadata": {},
   "cell_type": "code",
   "source": [
    "import sys\n",
    "sys.path.append(r\"C:\\Users\\piotr\\PycharmProjects\\LLMPolReasonEval\\src\")\n",
    "from llm_pol_reason_eval.question_processing.dataset_processor import DatasetProcessor\n",
    "json_file_path = r\"/data/dataset_raw/matury/MPOP-P1-100-A-2405-gemini25pro-2025-06-03T22-51-00Z.json\"\n",
    "dataset_processor = DatasetProcessor()\n",
    "dataset_processor.add_data_from_json_file(json_file_path)"
   ],
   "id": "db8fd8f1758b9832",
   "outputs": [],
   "execution_count": null
  },
  {
   "metadata": {},
   "cell_type": "code",
   "source": "json_data_str = dataset_processor.get_all_data_as_json_string(sort_contexts_by_key=True, sort_questions_by_key=True)",
   "id": "58c75cac2a42ca6c",
   "outputs": [],
   "execution_count": null
  },
  {
   "metadata": {},
   "cell_type": "code",
   "source": [
    "import json\n",
    "data_dict = json.loads(json_data_str)\n",
    "len(data_dict.get(\"questions\"))"
   ],
   "id": "8a809aad2b1cdd62",
   "outputs": [],
   "execution_count": null
  },
  {
   "metadata": {},
   "cell_type": "code",
   "source": "data_dict.get(\"questions\")[1]",
   "id": "ba90ec076ac110de",
   "outputs": [],
   "execution_count": null
  },
  {
   "metadata": {},
   "cell_type": "code",
   "source": [
    "question_text = data_dict.get(\"questions\")[1].get(\"question_text\")\n",
    "context_id = data_dict.get(\"questions\")[1].get(\"context_ids\")[0]\n",
    "context_text = all(data_dict.get(\"contexts\")\n"
   ],
   "id": "2a76b7d0b864e50e",
   "outputs": [],
   "execution_count": null
  },
  {
   "metadata": {},
   "cell_type": "code",
   "source": "",
   "id": "e151ed379adbdea8",
   "outputs": [],
   "execution_count": null
  }
 ],
 "metadata": {
  "kernelspec": {
   "display_name": "Python 3",
   "language": "python",
   "name": "python3"
  },
  "language_info": {
   "codemirror_mode": {
    "name": "ipython",
    "version": 2
   },
   "file_extension": ".py",
   "mimetype": "text/x-python",
   "name": "python",
   "nbconvert_exporter": "python",
   "pygments_lexer": "ipython2",
   "version": "2.7.6"
  }
 },
 "nbformat": 4,
 "nbformat_minor": 5
}
