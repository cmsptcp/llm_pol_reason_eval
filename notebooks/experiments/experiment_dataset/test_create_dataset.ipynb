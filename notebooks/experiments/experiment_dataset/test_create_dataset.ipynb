{
 "cells": [
  {
   "cell_type": "code",
   "id": "initial_id",
   "metadata": {
    "collapsed": true,
    "ExecuteTime": {
     "end_time": "2025-06-08T20:42:43.719035Z",
     "start_time": "2025-06-08T20:42:43.623627Z"
    }
   },
   "source": [
    "%load_ext autoreload\n",
    "%autoreload 2\n",
    "import os\n",
    "import sys\n",
    "from pathlib import Path\n",
    "from datetime import datetime, UTC\n",
    "from dotenv import load_dotenv\n",
    "\n",
    "current_dir = Path(os.getcwd()).resolve()\n",
    "if current_dir.name == \"LLMPolReasonEval\": # uruchomione w Jupyter Lab\n",
    "    project_root = current_dir\n",
    "else:  # uruchomione w PyCharm\n",
    "    project_root = current_dir.parents[2]\n",
    "print(f\"Project root: {project_root}\")\n",
    "\n",
    "sys.path.append(str(project_root / \"src\"))\n",
    "from llm_pol_reason_eval.question_processing.dataset_manager import DatasetManager\n",
    "\n",
    "if load_dotenv(os.path.join(project_root, '.env')):\n",
    "    print (f\"Loaded environment variables from {project_root / '.env'}\")"
   ],
   "outputs": [
    {
     "name": "stdout",
     "output_type": "stream",
     "text": [
      "The autoreload extension is already loaded. To reload it, use:\n",
      "  %reload_ext autoreload\n",
      "Project root: C:\\Users\\piotr\\PycharmProjects\\LLMPolReasonEval\n",
      "Loaded environment variables from C:\\Users\\piotr\\PycharmProjects\\LLMPolReasonEval\\.env\n"
     ]
    }
   ],
   "execution_count": 20
  },
  {
   "metadata": {
    "ExecuteTime": {
     "end_time": "2025-06-08T20:42:43.801813Z",
     "start_time": "2025-06-08T20:42:43.738981Z"
    }
   },
   "cell_type": "code",
   "source": [
    "dataset_raw_path = project_root / \"data\" / \"dataset_raw\"\n",
    "output_dir = project_root / \"data\" / \"dataset\"\n",
    "output_dir.mkdir(parents=True, exist_ok=True)"
   ],
   "id": "12c010f7d882b271",
   "outputs": [],
   "execution_count": 21
  },
  {
   "metadata": {
    "ExecuteTime": {
     "end_time": "2025-06-08T20:42:43.879059Z",
     "start_time": "2025-06-08T20:42:43.813907Z"
    }
   },
   "cell_type": "code",
   "source": [
    "# Inicjalizacja managera i ładowanie danych\n",
    "dataset_manager = DatasetManager()\n",
    "for json_file in dataset_raw_path.rglob(\"*.json\"):\n",
    "    dataset_manager.add_data_from_json_file(str(json_file))\n",
    "\n",
    "# Generowanie ścieżki wyjściowej z timestampem ISO 8601\n",
    "iso_timestamp = datetime.now(UTC).replace(microsecond=0).isoformat().replace(\"+00:00\", \"Z\").replace(\":\", \"-\")\n",
    "output_filename = f\"mvp_dataset_{iso_timestamp}.json\"\n",
    "output_path = output_dir / output_filename\n",
    "\n",
    "# Zapis datasetu\n",
    "dataset_manager.save_all_data_to_json_file(str(output_path))\n",
    "print(f\"Zapisano dataset do: {output_path}\")"
   ],
   "id": "dc09175481e5ce86",
   "outputs": [
    {
     "name": "stdout",
     "output_type": "stream",
     "text": [
      "Zapisano dataset do: C:\\Users\\piotr\\PycharmProjects\\LLMPolReasonEval\\data\\dataset\\mvp_dataset_2025-06-08T20-42-43Z.json\n"
     ]
    }
   ],
   "execution_count": 22
  },
  {
   "metadata": {
    "ExecuteTime": {
     "end_time": "2025-06-08T20:42:43.916657Z",
     "start_time": "2025-06-08T20:42:43.901033Z"
    }
   },
   "cell_type": "code",
   "source": "",
   "id": "9ccd4867f90244c2",
   "outputs": [],
   "execution_count": null
  }
 ],
 "metadata": {
  "kernelspec": {
   "display_name": "Python 3 (ipykernel)",
   "language": "python",
   "name": "python3"
  },
  "language_info": {
   "codemirror_mode": {
    "name": "ipython",
    "version": 2
   },
   "file_extension": ".py",
   "mimetype": "text/x-python",
   "name": "python",
   "nbconvert_exporter": "python",
   "pygments_lexer": "ipython2",
   "version": "2.7.6"
  }
 },
 "nbformat": 4,
 "nbformat_minor": 5
}
